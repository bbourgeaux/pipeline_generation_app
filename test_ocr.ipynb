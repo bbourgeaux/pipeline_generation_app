{
 "cells": [
  {
   "cell_type": "code",
   "execution_count": 1,
   "metadata": {},
   "outputs": [],
   "source": [
    "import easyocr\n",
    "import time"
   ]
  },
  {
   "cell_type": "code",
   "execution_count": 4,
   "metadata": {},
   "outputs": [],
   "source": [
    "# Create OCR Instance\n",
    "reader_en_fr = easyocr.Reader(['en', 'fr'])\n",
    "# reader_en_fr = easyocr.Reader(['en', 'fr'], gpu = False)\n",
    "\n",
    "def read_text(image_name, model_name, paragraph, canvas_size):\n",
    "  text = model_name.readtext(image_name, detail=0, paragraph=paragraph, canvas_size=canvas_size)\n",
    "  return '\\n'.join(text)"
   ]
  },
  {
   "cell_type": "code",
   "execution_count": 5,
   "metadata": {},
   "outputs": [
    {
     "name": "stdout",
     "output_type": "stream",
     "text": [
      "Data cleaning\n",
      "Model Training\n",
      "Model evaluation\n",
      "Prediction\n",
      "Total time : 0.37\n"
     ]
    }
   ],
   "source": [
    "f = \"./pipeline.png\"\n",
    "\n",
    "## Starting time\n",
    "start = time.time()\n",
    "\n",
    "## Extract Text\n",
    "texts = read_text(f, reader_en_fr, paragraph=True, canvas_size=2560) # Canvas size: largest size of image\n",
    "print(texts)\n",
    "\n",
    "print(f'Total time : {round(time.time() - start,2)}')"
   ]
  },
  {
   "cell_type": "code",
   "execution_count": null,
   "metadata": {},
   "outputs": [],
   "source": []
  },
  {
   "cell_type": "code",
   "execution_count": null,
   "metadata": {},
   "outputs": [],
   "source": []
  }
 ],
 "metadata": {
  "kernelspec": {
   "display_name": "pipeline_generation_flask_app",
   "language": "python",
   "name": "python3"
  },
  "language_info": {
   "codemirror_mode": {
    "name": "ipython",
    "version": 3
   },
   "file_extension": ".py",
   "mimetype": "text/x-python",
   "name": "python",
   "nbconvert_exporter": "python",
   "pygments_lexer": "ipython3",
   "version": "3.8.18"
  }
 },
 "nbformat": 4,
 "nbformat_minor": 2
}
