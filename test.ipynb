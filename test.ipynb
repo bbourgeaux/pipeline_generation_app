{
 "cells": [
  {
   "cell_type": "code",
   "execution_count": 2,
   "metadata": {},
   "outputs": [],
   "source": [
    "import re\n",
    "import json"
   ]
  },
  {
   "cell_type": "code",
   "execution_count": 3,
   "metadata": {},
   "outputs": [],
   "source": [
    "# Given string\n",
    "pipeline_string = \"\"\"\n",
    "Pipeline: {\"name\": \"Crypto Investment Analysis\", \"description\": \"This Pipeline will analyze the latest news in Silicon Valley to make smart investments in cryptocurrency.\", \"input_resources\": \"\", \"output_resources\": \"\"}\n",
    "Job 1: {\"id\": 1, \"dep\": 0, \"name\": \"News Collection\", \"description\": \"This Job will collect the latest news articles related to Silicon Valley and cryptocurrency.\", \"input_resources\": \"\", \"output_resources\": \"news.csv\"}\n",
    "Job 2: {\"id\": 2, \"dep\": 0, \"name\": \"Sentiment Analysis\", \"description\": \"This Job will analyze the sentiment of the collected news articles to determine their overall tone.\", \"input_resources\": \"news.csv\", \"output_resources\": \"sentiment.csv\"}\n",
    "Job 3: {\"id\": 3, \"dep\": 0, \"name\": \"Keywords Extraction\", \"description\": \"This Job will identify the most important keywords from the collected news articles.\", \"input_resources\": \"sentiment.csv\", \"output_resources\": \"keywords.csv\"}\n",
    "Job 4: {\"id\": 4, \"dep\": 0, \"name\": \"News Topics Identification\", \"description\": \"This Job will group the collected news articles into topics related to Silicon Valley and cryptocurrency.\", \"input_resources\": \"keywords.csv\", \"output_resources\": \"topics.csv\"}\n",
    "Job 5: {\"id\": 5, \"dep\": 0, \"name\": \"News Analysis\", \"description\": \"This Job will analyze the collected news articles to determine their relevance to Silicon Valley and cryptocurrency.\", \"input_resources\": \"topics.csv\", \"output_resources\": \"analysis.csv\"}\n",
    "Job 6: {\"id\": 6, \"dep\": 0, \"name\": \"Crypto Market Analysis\", \"description\": \"This Job will analyze the current state of the cryptocurrency market.\", \"input_resources\": \"\", \"output_resources\": \"market.csv\"}\n",
    "Job 7: {\"id\": 7, \"dep\": 0, \"name\": \"Investment Strategy\", \"description\": \"This Job will use the information gathered from the previous Jobs to develop a smart investment strategy for cryptocurrency.\", \"input_resources\": \"analysis.csv, market.csv\", \"output_resources\": \"strategy.csv\"}\n",
    "\"\"\""
   ]
  },
  {
   "cell_type": "code",
   "execution_count": 4,
   "metadata": {},
   "outputs": [],
   "source": [
    "# Pattern for extracting each section\n",
    "pattern = r'(\\w+\\s?\\d*): (.*?)(?=\\n\\w|\\n\\[|\\n$)'\n",
    "\n",
    "# Extracting sections\n",
    "sections = re.findall(pattern, pipeline_string, re.DOTALL)\n",
    "\n",
    "# Initialize pipeline dictionary\n",
    "pipeline = {}"
   ]
  },
  {
   "cell_type": "code",
   "execution_count": 5,
   "metadata": {},
   "outputs": [],
   "source": [
    "# Iterate over sections and add to pipeline dictionary\n",
    "for section_name, section_content in sections:\n",
    "    if section_name == \"Pipeline\":\n",
    "        pipeline_data = json.loads(section_content)\n",
    "        pipeline.update({\n",
    "            'name': pipeline_data['name'],\n",
    "            'description': pipeline_data['description'],\n",
    "            'jobs': []\n",
    "        })\n",
    "    else:\n",
    "        job_data = json.loads(section_content)\n",
    "        pipeline['jobs'].append({\n",
    "            'id': job_data['id'],\n",
    "            'dep': job_data['dep'],\n",
    "            'name': job_data['name'],\n",
    "            'description': job_data['description'],\n",
    "            'input_resources': job_data['input_resources'],\n",
    "            'output_resources': job_data['output_resources']\n",
    "        })\n"
   ]
  },
  {
   "cell_type": "code",
   "execution_count": 6,
   "metadata": {},
   "outputs": [
    {
     "name": "stdout",
     "output_type": "stream",
     "text": [
      "{'name': 'Crypto Investment Analysis', 'description': 'This Pipeline will analyze the latest news in Silicon Valley to make smart investments in cryptocurrency.', 'jobs': [{'id': 1, 'dep': 0, 'name': 'News Collection', 'description': 'This Job will collect the latest news articles related to Silicon Valley and cryptocurrency.', 'input_resources': '', 'output_resources': 'news.csv'}, {'id': 2, 'dep': 0, 'name': 'Sentiment Analysis', 'description': 'This Job will analyze the sentiment of the collected news articles to determine their overall tone.', 'input_resources': 'news.csv', 'output_resources': 'sentiment.csv'}, {'id': 3, 'dep': 0, 'name': 'Keywords Extraction', 'description': 'This Job will identify the most important keywords from the collected news articles.', 'input_resources': 'sentiment.csv', 'output_resources': 'keywords.csv'}, {'id': 4, 'dep': 0, 'name': 'News Topics Identification', 'description': 'This Job will group the collected news articles into topics related to Silicon Valley and cryptocurrency.', 'input_resources': 'keywords.csv', 'output_resources': 'topics.csv'}, {'id': 5, 'dep': 0, 'name': 'News Analysis', 'description': 'This Job will analyze the collected news articles to determine their relevance to Silicon Valley and cryptocurrency.', 'input_resources': 'topics.csv', 'output_resources': 'analysis.csv'}, {'id': 6, 'dep': 0, 'name': 'Crypto Market Analysis', 'description': 'This Job will analyze the current state of the cryptocurrency market.', 'input_resources': '', 'output_resources': 'market.csv'}, {'id': 7, 'dep': 0, 'name': 'Investment Strategy', 'description': 'This Job will use the information gathered from the previous Jobs to develop a smart investment strategy for cryptocurrency.', 'input_resources': 'analysis.csv, market.csv', 'output_resources': 'strategy.csv'}]}\n"
     ]
    }
   ],
   "source": [
    "# Output the pipeline dictionary\n",
    "print(pipeline)"
   ]
  }
 ],
 "metadata": {
  "kernelspec": {
   "display_name": "pipeline_generation_flask_app",
   "language": "python",
   "name": "python3"
  },
  "language_info": {
   "codemirror_mode": {
    "name": "ipython",
    "version": 3
   },
   "file_extension": ".py",
   "mimetype": "text/x-python",
   "name": "python",
   "nbconvert_exporter": "python",
   "pygments_lexer": "ipython3",
   "version": "3.8.18"
  }
 },
 "nbformat": 4,
 "nbformat_minor": 2
}
